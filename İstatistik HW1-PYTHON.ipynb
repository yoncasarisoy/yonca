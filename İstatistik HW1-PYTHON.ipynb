{
 "cells": [
  {
   "cell_type": "code",
   "execution_count": 31,
   "id": "43be9543",
   "metadata": {},
   "outputs": [
    {
     "data": {
      "image/png": "[encoded data removed]",
      "text/plain": [
       "<Figure size 432x288 with 1 Axes>"
      ]
     },
     "metadata": {
      "needs_background": "light"
     },
     "output_type": "display_data"
    }
   ],
   "source": [
    "#frequency density histogram\n",
    "import numpy as np\n",
    "import matplotlib.pyplot as plt\n",
    "\n",
    "freqs = np.array([6, 23, 30, 35, 32, 48, 42, 40, 28, 27, 26, 14, 27, 11, 2])\n",
    "bins = np.array([6, 8, 10, 12, 14, 16, 18, 20, 22, 24, 26, 28, 30, 35, 40, 45])\n",
    "widths = bins[1:] - bins[:-1]\n",
    "heights = freqs.astype(float)/widths\n",
    "plt.fill_between(bins.repeat(2)[1:-1], heights.repeat(2), facecolor='steelblue')\n",
    "plt.show()"
   ]
  },
  {
   "cell_type": "code",
   "execution_count": null,
   "id": "38a41d81",
   "metadata": {},
   "outputs": [],
   "source": []
  },
  {
   "cell_type": "code",
   "execution_count": 10,
   "id": "62100dc5",
   "metadata": {},
   "outputs": [
    {
     "name": "stdout",
     "output_type": "stream",
     "text": [
      "(436, 452]     4\n",
      "(452, 468]     7\n",
      "(468, 484]    11\n",
      "(484, 500]     6\n",
      "(500, 516]     5\n",
      "(516, 532]    10\n",
      "(532, 548]     5\n",
      "(548, 564]     2\n",
      "dtype: int64\n"
     ]
    }
   ],
   "source": [
    "#frequency distribution\n",
    "import pandas as pd\n",
    "import numpy as np\n",
    "\n",
    "data= [514, 476, 497, 511, 484, 513, 471, 470, 441, 466, 443, 481, 502, 528, 459, \n",
    "       548, 521, 517, 463,478, 473, 514, 542, 519, 522, 523, 546, 487, 486, 473, \n",
    "       527, 470, 440, 564, 499, 523, 484, 463,461, 437, 555, 525, 461, 539, 466, \n",
    "       470, 486, 490,543, 519]\n",
    "s = pd.Series(data)\n",
    "out = pd.cut(s, bins=[436,452,468,484,500,516,532,548,564])\n",
    "print(out.value_counts().sort_index())"
   ]
  },
  {
   "cell_type": "code",
   "execution_count": 11,
   "id": "f4ea57af",
   "metadata": {},
   "outputs": [
    {
     "name": "stdout",
     "output_type": "stream",
     "text": [
      "(436, 452]    0.08\n",
      "(452, 468]    0.14\n",
      "(468, 484]    0.22\n",
      "(484, 500]    0.12\n",
      "(500, 516]    0.10\n",
      "(516, 532]    0.20\n",
      "(532, 548]    0.10\n",
      "(548, 564]    0.04\n",
      "dtype: float64\n"
     ]
    }
   ],
   "source": [
    "#relative frequency distribution\n",
    "import pandas as pd\n",
    "import numpy as np\n",
    "\n",
    "data= [514, 476, 497, 511, 484, 513, 471, 470, 441, 466, 443, 481, 502, 528, 459, \n",
    "       548, 521, 517, 463,478, 473, 514, 542, 519, 522, 523, 546, 487, 486, 473, \n",
    "       527, 470, 440, 564, 499, 523, 484, 463,461, 437, 555, 525, 461, 539, 466, \n",
    "       470, 486, 490,543, 519]\n",
    "s = pd.Series(data)\n",
    "out = pd.cut(s, bins=[436,452,468,484,500,516,532,548,564])\n",
    "print(out.value_counts(normalize=True).sort_index())"
   ]
  },
  {
   "cell_type": "code",
   "execution_count": 12,
   "id": "9835ae3a",
   "metadata": {},
   "outputs": [
    {
     "name": "stdout",
     "output_type": "stream",
     "text": [
      "(436, 452]     8.0\n",
      "(452, 468]    14.0\n",
      "(468, 484]    22.0\n",
      "(484, 500]    12.0\n",
      "(500, 516]    10.0\n",
      "(516, 532]    20.0\n",
      "(532, 548]    10.0\n",
      "(548, 564]     4.0\n",
      "dtype: float64\n"
     ]
    }
   ],
   "source": [
    "#percentage frequency distribution\n",
    "import pandas as pd\n",
    "import numpy as np\n",
    "\n",
    "data= [514, 476, 497, 511, 484, 513, 471, 470, 441, 466, 443, 481, 502, 528, 459, \n",
    "       548, 521, 517, 463,478, 473, 514, 542, 519, 522, 523, 546, 487, 486, 473, \n",
    "       527, 470, 440, 564, 499, 523, 484, 463,461, 437, 555, 525, 461, 539, 466, \n",
    "       470, 486, 490,543, 519]\n",
    "s = pd.Series(data)\n",
    "out = pd.cut(s, bins=[436,452,468,484,500,516,532,548,564])\n",
    "print(out.value_counts(normalize=True).sort_index() *100)"
   ]
  },
  {
   "cell_type": "code",
   "execution_count": null,
   "id": "9316f10c",
   "metadata": {},
   "outputs": [],
   "source": []
  },
  {
   "cell_type": "code",
   "execution_count": 30,
   "id": "e9cb0379",
   "metadata": {},
   "outputs": [
    {
     "data": {
      "image/png": "[encoded data removed]",
      "text/plain": [
       "<Figure size 432x288 with 1 Axes>"
      ]
     },
     "metadata": {
      "needs_background": "light"
     },
     "output_type": "display_data"
    }
   ],
   "source": [
    "#Percentage Frequency Histogram\n",
    "from matplotlib import pyplot as plt\n",
    "import numpy as np\n",
    "# Creating dataset\n",
    "a = np.array([514, 476, 497, 511, 484, 513, 471, 470, 441, 466, 443, 481, 502, 528, 459, \n",
    "       548, 521, 517, 463,478, 473, 514, 542, 519, 522, 523, 546, 487, 486, 473, \n",
    "       527, 470, 440, 564, 499, 523, 484, 463,461, 437, 555, 525, 461, 539, 466, \n",
    "       470, 486, 490,543, 519])\n",
    "# Creating histogram\n",
    "fig, ax = plt.subplots()\n",
    "ax.hist(a, bins = [437,453,469,485,501,517,533,549,565],color = \"pink\", hatch='/', edgecolor='k',density= 10, fill=True)\n",
    "plt.show() "
   ]
  },
  {
   "cell_type": "code",
   "execution_count": 39,
   "id": "73d88607",
   "metadata": {},
   "outputs": [
    {
     "ename": "SyntaxError",
     "evalue": "invalid syntax (2434426969.py, line 2)",
     "output_type": "error",
     "traceback": [
      "\u001b[1;36m  Input \u001b[1;32mIn [39]\u001b[1;36m\u001b[0m\n\u001b[1;33m    pip3 install stemgraphic\u001b[0m\n\u001b[1;37m         ^\u001b[0m\n\u001b[1;31mSyntaxError\u001b[0m\u001b[1;31m:\u001b[0m invalid syntax\n"
     ]
    }
   ],
   "source": [
    "#Stem and Leaf Plot\n",
    "import pandas as pd\n",
    "import stemgraphic\n",
    "\n",
    "data= [514, 476, 497, 511, 484, 513, 471, 470, 441, 466, 443, 481, 502, 528, 459, \n",
    "       548, 521, 517, 463,478, 473, 514, 542, 519, 522, 523, 546, 487, 486, 473, \n",
    "       527, 470, 440, 564, 499, 523, 484, 463,461, 437, 555, 525, 461, 539, 466, \n",
    "       470, 486, 490,543, 519,600,620]\n",
    "y = pd.Series(data)\n",
    "fig, ax = stemgraphic.stem_graphic(y)\n",
    "fig.show()"
   ]
  },
  {
   "cell_type": "code",
   "execution_count": null,
   "id": "8034c22c",
   "metadata": {},
   "outputs": [],
   "source": []
  },
  {
   "cell_type": "code",
   "execution_count": null,
   "id": "0df08b7f",
   "metadata": {},
   "outputs": [],
   "source": []
  }
 ],
 "metadata": {
  "kernelspec": {
   "display_name": "Python 3 (ipykernel)",
   "language": "python",
   "name": "python3"
  },
  "language_info": {
   "codemirror_mode": {
    "name": "ipython",
    "version": 3
   },
   "file_extension": ".py",
   "mimetype": "text/x-python",
   "name": "python",
   "nbconvert_exporter": "python",
   "pygments_lexer": "ipython3",
   "version": "3.9.12"
  }
 },
 "nbformat": 4,
 "nbformat_minor": 5
}
