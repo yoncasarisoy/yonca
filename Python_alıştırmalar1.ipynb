{
 "cells": [
  {
   "cell_type": "code",
   "execution_count": 7,
   "id": "97005eb9",
   "metadata": {},
   "outputs": [
    {
     "data": {
      "text/plain": [
       "6851"
      ]
     },
     "execution_count": 7,
     "metadata": {},
     "output_type": "execute_result"
    }
   ],
   "source": [
    "#exercice1\n",
    "sum(list(range(19,203,3)))"
   ]
  },
  {
   "cell_type": "code",
   "execution_count": null,
   "id": "1fd28fbe",
   "metadata": {},
   "outputs": [],
   "source": [
    "#exercice2\n"
   ]
  },
  {
   "cell_type": "code",
   "execution_count": 10,
   "id": "cdf33109",
   "metadata": {},
   "outputs": [
    {
     "name": "stdout",
     "output_type": "stream",
     "text": [
      "sayı23434\n"
     ]
    },
    {
     "data": {
      "text/plain": [
       "'3'"
      ]
     },
     "execution_count": 10,
     "metadata": {},
     "output_type": "execute_result"
    }
   ],
   "source": []
  },
  {
   "cell_type": "code",
   "execution_count": null,
   "id": "9ae063c8",
   "metadata": {},
   "outputs": [],
   "source": [
    "#exercice3"
   ]
  },
  {
   "cell_type": "code",
   "execution_count": 42,
   "id": "95a5b840",
   "metadata": {},
   "outputs": [
    {
     "name": "stdout",
     "output_type": "stream",
     "text": [
      "101\n",
      "111\n",
      "121\n",
      "131\n",
      "141\n",
      "151\n",
      "161\n",
      "171\n",
      "181\n",
      "191\n",
      "202\n",
      "212\n",
      "222\n",
      "232\n",
      "242\n",
      "252\n",
      "262\n",
      "272\n",
      "282\n",
      "292\n",
      "303\n",
      "313\n",
      "323\n",
      "333\n",
      "343\n",
      "353\n",
      "363\n",
      "373\n",
      "383\n",
      "393\n",
      "404\n",
      "414\n",
      "424\n",
      "434\n",
      "444\n",
      "454\n",
      "464\n",
      "474\n",
      "484\n",
      "494\n",
      "505\n",
      "515\n",
      "525\n",
      "535\n",
      "545\n",
      "555\n",
      "565\n",
      "575\n",
      "585\n",
      "595\n",
      "606\n",
      "616\n",
      "626\n",
      "636\n",
      "646\n",
      "656\n",
      "666\n",
      "676\n",
      "686\n",
      "696\n",
      "707\n",
      "717\n",
      "727\n",
      "737\n",
      "747\n",
      "757\n",
      "767\n",
      "777\n",
      "787\n",
      "797\n",
      "808\n",
      "818\n",
      "828\n",
      "838\n",
      "848\n",
      "858\n",
      "868\n",
      "878\n",
      "888\n",
      "898\n",
      "909\n",
      "919\n",
      "929\n",
      "939\n",
      "949\n",
      "959\n",
      "969\n",
      "979\n",
      "989\n",
      "999\n"
     ]
    }
   ],
   "source": [
    "#exercice4\n",
    "\n",
    "def pali(basamak_sayısı):\n",
    "    for i in range(10**(basamak_sayısı-1),10**basamak_sayısı):\n",
    "        sayı = list(str(i))\n",
    "        if sayı == sayı[::-1]:\n",
    "            print(i)\n",
    "pali(3)"
   ]
  },
  {
   "cell_type": "code",
   "execution_count": null,
   "id": "f5769a88",
   "metadata": {},
   "outputs": [],
   "source": [
    "      "
   ]
  },
  {
   "cell_type": "code",
   "execution_count": 43,
   "id": "9867aa69",
   "metadata": {},
   "outputs": [
    {
     "name": "stdout",
     "output_type": "stream",
     "text": [
      "1001\n",
      "1111\n",
      "1221\n",
      "1331\n",
      "1441\n",
      "1551\n",
      "1661\n",
      "1771\n",
      "1881\n",
      "1991\n",
      "2002\n",
      "2112\n",
      "2222\n",
      "2332\n",
      "2442\n",
      "2552\n",
      "2662\n",
      "2772\n",
      "2882\n",
      "2992\n",
      "3003\n",
      "3113\n",
      "3223\n",
      "3333\n",
      "3443\n",
      "3553\n",
      "3663\n",
      "3773\n",
      "3883\n",
      "3993\n",
      "4004\n",
      "4114\n",
      "4224\n",
      "4334\n",
      "4444\n",
      "4554\n",
      "4664\n",
      "4774\n",
      "4884\n",
      "4994\n",
      "5005\n",
      "5115\n",
      "5225\n",
      "5335\n",
      "5445\n",
      "5555\n",
      "5665\n",
      "5775\n",
      "5885\n",
      "5995\n",
      "6006\n",
      "6116\n",
      "6226\n",
      "6336\n",
      "6446\n",
      "6556\n",
      "6666\n",
      "6776\n",
      "6886\n",
      "6996\n",
      "7007\n",
      "7117\n",
      "7227\n",
      "7337\n",
      "7447\n",
      "7557\n",
      "7667\n",
      "7777\n",
      "7887\n",
      "7997\n",
      "8008\n",
      "8118\n",
      "8228\n",
      "8338\n",
      "8448\n",
      "8558\n",
      "8668\n",
      "8778\n",
      "8888\n",
      "8998\n",
      "9009\n",
      "9119\n",
      "9229\n",
      "9339\n",
      "9449\n",
      "9559\n",
      "9669\n",
      "9779\n",
      "9889\n",
      "9999\n"
     ]
    }
   ],
   "source": [
    "#exercice5\n",
    "\n",
    "pali(4)"
   ]
  },
  {
   "cell_type": "code",
   "execution_count": 45,
   "id": "78c5a344",
   "metadata": {},
   "outputs": [
    {
     "name": "stdout",
     "output_type": "stream",
     "text": [
      "4500\n"
     ]
    }
   ],
   "source": [
    "#exercice6\n",
    "\n",
    "x = []\n",
    "for i in range(1000,10000):\n",
    "    sayı = list(str(i))\n",
    "    if sayı[0] > sayı[-1]:\n",
    "        x.append(i)\n",
    "print(len(x))"
   ]
  },
  {
   "cell_type": "code",
   "execution_count": 47,
   "id": "f8ac701d",
   "metadata": {},
   "outputs": [
    {
     "name": "stdout",
     "output_type": "stream",
     "text": [
      "101\n",
      "112\n",
      "123\n",
      "134\n",
      "145\n",
      "156\n",
      "167\n",
      "178\n",
      "189\n",
      "202\n",
      "213\n",
      "224\n",
      "235\n",
      "246\n",
      "257\n",
      "268\n",
      "279\n",
      "303\n",
      "314\n",
      "325\n",
      "336\n",
      "347\n",
      "358\n",
      "369\n",
      "404\n",
      "415\n",
      "426\n",
      "437\n",
      "448\n",
      "459\n",
      "505\n",
      "516\n",
      "527\n",
      "538\n",
      "549\n",
      "606\n",
      "617\n",
      "628\n",
      "639\n",
      "707\n",
      "718\n",
      "729\n",
      "808\n",
      "819\n",
      "909\n",
      "45\n"
     ]
    }
   ],
   "source": [
    "#exercice7\n",
    "y = []\n",
    "for i in range(100,1000):\n",
    "    sayı = list(str(i))\n",
    "    if int(sayı[0])+int(sayı[1]) == int(sayı[-1]):\n",
    "        y.append(i)\n",
    "        print(i)\n",
    "print(len(y))"
   ]
  },
  {
   "cell_type": "code",
   "execution_count": 48,
   "id": "68d623d4",
   "metadata": {},
   "outputs": [
    {
     "name": "stdout",
     "output_type": "stream",
     "text": [
      "81\n"
     ]
    }
   ],
   "source": [
    "#exercice8\n",
    "\n",
    "z = []\n",
    "for i in range(100,1000,2):\n",
    "    sayı = list(str(i))\n",
    "    if sayı[0] == sayı[1] or sayı[0] == sayı[2]:\n",
    "        z.append(i)\n",
    "print(len(z))\n",
    "        "
   ]
  },
  {
   "cell_type": "code",
   "execution_count": 55,
   "id": "fcc2dc1f",
   "metadata": {},
   "outputs": [
    {
     "ename": "TypeError",
     "evalue": "cannot unpack non-iterable int object",
     "output_type": "error",
     "traceback": [
      "\u001b[1;31m---------------------------------------------------------------------------\u001b[0m",
      "\u001b[1;31mTypeError\u001b[0m                                 Traceback (most recent call last)",
      "Input \u001b[1;32mIn [55]\u001b[0m, in \u001b[0;36m<cell line: 5>\u001b[1;34m()\u001b[0m\n\u001b[0;32m      6\u001b[0m sayı \u001b[38;5;241m=\u001b[39m \u001b[38;5;28mlist\u001b[39m(\u001b[38;5;28mstr\u001b[39m(i))\n\u001b[0;32m      7\u001b[0m x\u001b[38;5;241m.\u001b[39mappend(sayı)\n\u001b[1;32m----> 8\u001b[0m \u001b[38;5;28;01mfor\u001b[39;00m k,m \u001b[38;5;129;01min\u001b[39;00m \u001b[38;5;28mrange\u001b[39m(\u001b[38;5;28mlen\u001b[39m(x)):\n\u001b[0;32m      9\u001b[0m         y\u001b[38;5;241m+\u001b[39m\u001b[38;5;241m=\u001b[39m\u001b[38;5;28mint\u001b[39m(x[k][m])\n\u001b[0;32m     10\u001b[0m         \u001b[38;5;28;01mif\u001b[39;00m y\u001b[38;5;241m<\u001b[39m\u001b[38;5;241m9\u001b[39m:\n",
      "\u001b[1;31mTypeError\u001b[0m: cannot unpack non-iterable int object"
     ]
    }
   ],
   "source": [
    "#exercice9\n",
    "\n",
    "x = []\n",
    "y = 0\n",
    "for i in range(1,999):\n",
    "    sayı = list(str(i))\n",
    "    x.append(sayı)\n",
    "    for k,m in range(len(x)):\n",
    "            y+=int(x[k][m])\n",
    "            if y<9:\n",
    "                print(i)\n",
    "    y = 0"
   ]
  },
  {
   "cell_type": "code",
   "execution_count": null,
   "id": "145f3587",
   "metadata": {},
   "outputs": [],
   "source": []
  }
 ],
 "metadata": {
  "kernelspec": {
   "display_name": "Python 3 (ipykernel)",
   "language": "python",
   "name": "python3"
  },
  "language_info": {
   "codemirror_mode": {
    "name": "ipython",
    "version": 3
   },
   "file_extension": ".py",
   "mimetype": "text/x-python",
   "name": "python",
   "nbconvert_exporter": "python",
   "pygments_lexer": "ipython3",
   "version": "3.9.12"
  }
 },
 "nbformat": 4,
 "nbformat_minor": 5
}
