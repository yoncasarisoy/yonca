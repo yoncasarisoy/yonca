{
 "cells": [
  {
   "cell_type": "code",
   "execution_count": 25,
   "id": "7456d125",
   "metadata": {},
   "outputs": [
    {
     "data": {
      "image/png": "[encoded data removed]",
      "text/plain": [
       "<Figure size 432x288 with 1 Axes>"
      ]
     },
     "metadata": {
      "needs_background": "light"
     },
     "output_type": "display_data"
    }
   ],
   "source": [
    "#2-b DOT PLOT \n",
    "import matplotlib.pyplot as plt\n",
    "\n",
    "A = [350, 350, 350, 358, 370, 370, 370, 371, 371, 372, 372, 384, 391, 391, 392]\n",
    "B = [350, 354, 359, 363, 365, 368, 369, 371, 373, 374, 376, 380, 383, 388, 392]\n",
    "C = [350, 361, 362, 364, 364, 365, 366, 371, 377, 377, 377, 379, 380, 380, 392]\n",
    "\n",
    "fig, ax = plt.subplots()\n",
    "\n",
    "ax.plot(A, [1]*len(A), 'bo', label='TIP1')\n",
    "ax.plot(B, [2]*len(B), 'ro', label='TIP2')\n",
    "ax.plot(C, [3]*len(C), 'go', label='TIP3')\n",
    "\n",
    "ax.set_yticks([1, 2, 3])\n",
    "ax.set_yticklabels(['Tip1', 'Tip2', 'Tip3'])\n",
    "\n",
    "plt.legend()\n",
    "plt.show()"
   ]
  },
  {
   "cell_type": "code",
   "execution_count": 27,
   "id": "65e9d9ca",
   "metadata": {},
   "outputs": [
    {
     "data": {
      "image/png": "[encoded data removed]",
      "text/plain": [
       "<Figure size 432x288 with 1 Axes>"
      ]
     },
     "metadata": {
      "needs_background": "light"
     },
     "output_type": "display_data"
    }
   ],
   "source": [
    "#2-a BOX PLOT\n",
    "import matplotlib.pyplot as plt\n",
    "A = [350, 350, 350, 358, 370, 370, 370, 371, 371, 372, 372, 384, 391, 391, 392]\n",
    "B = [350, 354, 359, 363, 365, 368, 369, 371, 373, 374, 376, 380, 383, 388, 392]\n",
    "C = [350, 361, 362, 364, 364, 365, 366, 371, 377, 377, 377, 379, 380, 380, 392]\n",
    "fig, ax = plt.subplots()\n",
    "\n",
    "ax.boxplot([A, B, C], vert=False, labels=['Tip1', 'Tip2', 'Tip3'])\n",
    "\n",
    "plt.title('Comparison of Tip1, Tip2, Tip3')\n",
    "plt.xlabel('Value')\n",
    "plt.ylabel('Dataset')\n",
    "plt.show()"
   ]
  },
  {
   "cell_type": "code",
   "execution_count": 28,
   "id": "af235e51",
   "metadata": {},
   "outputs": [
    {
     "data": {
      "image/png": "[encoded data removed]",
      "text/plain": [
       "<Figure size 432x288 with 1 Axes>"
      ]
     },
     "metadata": {
      "needs_background": "light"
     },
     "output_type": "display_data"
    }
   ],
   "source": [
    "#1-b BOX PLOT\n",
    "import matplotlib.pyplot as plt\n",
    "# Define the two datasets\n",
    "A = [187, 188, 194, 194, 198, 203, 203, 205, 208, 209, 212, 213, 214, 216, 219, 225, 227, 228, 228, 229]\n",
    "B = [155, 157, 173, 176, 182, 185, 192, 193, 197, 198, 201, 204, 206, 208, 212, 215, 219, 219, 223, 227]\n",
    "# Create a figure and axis object\n",
    "fig, ax = plt.subplots()\n",
    "# Create a boxplot of the two datasets\n",
    "ax.boxplot([B, A], vert=False)\n",
    "# Set the title and labels for the axes\n",
    "ax.set_title(\"Box Plot of Tip1 and Tip2\")\n",
    "ax.set_yticklabels([\"Tip2\", \"Tip1\"])\n",
    "ax.set_xlabel(\"Values\")\n",
    "# Show the plot\n",
    "plt.show()\n"
   ]
  },
  {
   "cell_type": "code",
   "execution_count": 9,
   "id": "318c4e17",
   "metadata": {},
   "outputs": [
    {
     "name": "stdout",
     "output_type": "stream",
     "text": [
      "18 | 2 4 9 7 8 8\n",
      "19 | 7 8 8 4 4 9 5 3\n",
      "20 | 9 3 1 2 8 4 9 5 8 7 1 5 9 3 2 9\n",
      "21 | 9 4 6 9 8 2 3 9 3 9\n",
      "22 | 5 8 7 8 9 3 5\n",
      "23 | 4 8 6\n",
      "\n",
      "\n",
      "15 | 3 5 1 7\n",
      "16 | 1\n",
      "17 | 3 6\n",
      "18 | 4 6 2 5\n",
      "19 | 2 4 3 8 2 7 1\n",
      "20 | 9 4 3 3 1 8 6 7 6 5 1\n",
      "21 | 9 3 6 5 8 9 4 2 9 3\n",
      "22 | 1 5 3 7\n",
      "23 | 1\n",
      "24 | 1\n",
      "25 | 7 1 8 9 9\n"
     ]
    }
   ],
   "source": [
    "#1-c Stem and leaf\n",
    "import pandas as pd\n",
    "A = [182, 193, 184, 201, 212, 209, 213, 199, 207, 234,\n",
    "     202, 219, 225, 228, 209, 187, 203, 228, 205, 236,\n",
    "     225, 194, 214, 209, 218, 219, 213, 198, 229, 198,\n",
    "     202, 219, 227, 201, 219, 188, 203, 188, 205, 238,\n",
    "     223, 209, 194, 216, 195, 208, 189, 204, 197, 208]\n",
    "# Create a Pandas DataFrame\n",
    "A_df = pd.DataFrame(A, columns=['values'])\n",
    "# Create a stem and leaf plot\n",
    "A_df['stem'], A_df['leaf'] = zip(*A_df['values'].apply(lambda x: divmod(x, 10)))\n",
    "A_df = A_df.sort_values(by='stem')\n",
    "for stem, leaf in A_df.groupby('stem')['leaf']:\n",
    "    print(f\"{stem:2} | {' '.join(str(x) for x in leaf)}\")\n",
    "print('\\n')\n",
    "# Dataset B\n",
    "B = [192, 225, 251, 203, 173, 207, 176, 216, 259, 219,\n",
    "     151, 201, 191, 259, 205, 198, 223, 215, 185, 193,\n",
    "     212, 241, 219, 203, 153, 227, 214, 155, 218, 194,\n",
    "     213, 201, 182, 231, 206, 192, 206, 258, 208, 186,\n",
    "     221, 213, 257, 204, 184, 161, 209, 219, 157, 197]\n",
    "# Create a Pandas DataFrame\n",
    "B_df = pd.DataFrame(B, columns=['values'])\n",
    "# Create a stem and leaf plot\n",
    "B_df['stem'], B_df['leaf'] = zip(*B_df['values'].apply(lambda x: divmod(x, 10)))\n",
    "B_df = B_df.sort_values(by='stem')\n",
    "for stem, leaf in B_df.groupby('stem')['leaf']:\n",
    "    print(f\"{stem:2} | {' '.join(str(x) for x in leaf)}\")"
   ]
  },
  {
   "cell_type": "code",
   "execution_count": null,
   "id": "a69095a1",
   "metadata": {},
   "outputs": [],
   "source": []
  },
  {
   "cell_type": "code",
   "execution_count": null,
   "id": "29fb4d99",
   "metadata": {},
   "outputs": [],
   "source": []
  },
  {
   "cell_type": "code",
   "execution_count": null,
   "id": "0b0030c0",
   "metadata": {},
   "outputs": [],
   "source": []
  }
 ],
 "metadata": {
  "kernelspec": {
   "display_name": "Python 3 (ipykernel)",
   "language": "python",
   "name": "python3"
  },
  "language_info": {
   "codemirror_mode": {
    "name": "ipython",
    "version": 3
   },
   "file_extension": ".py",
   "mimetype": "text/x-python",
   "name": "python",
   "nbconvert_exporter": "python",
   "pygments_lexer": "ipython3",
   "version": "3.9.12"
  }
 },
 "nbformat": 4,
 "nbformat_minor": 5
}
