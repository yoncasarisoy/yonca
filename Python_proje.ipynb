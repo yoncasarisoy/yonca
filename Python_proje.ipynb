{
 "cells": [
  {
   "cell_type": "code",
   "execution_count": 36,
   "id": "7be1b8a8-5e02-4763-9b32-e2151305f008",
   "metadata": {},
   "outputs": [
    {
     "name": "stdout",
     "output_type": "stream",
     "text": [
      "Miyaaaav\n"
     ]
    }
   ],
   "source": [
    "#özellikler ve fonksiyonlarla class oluşturma\n",
    "\n",
    "class Kedi:\n",
    "    def __init__(self, cins, goz_renk, tuy_renk):\n",
    "        self.cins = cins\n",
    "        self.goz_renk = goz_renk\n",
    "        self.tuy_renk = tuy_renk\n",
    "    def miyavla(self):\n",
    "        print(\"Miyaaaav\")\n",
    "    def insan_yasi_karsiligi(self, kedi_yasi):\n",
    "        if kedi_yasi == 1:\n",
    "            print(\"Kedinizin insan yaşı: 15\")\n",
    "        elif kedi_yasi == 2:\n",
    "            print(\"Kedinizin insan yaşı: 24\")\n",
    "        else:\n",
    "            kedi_yasi = 24 + (kedi_yasi-2)*4\n",
    "            return kedi_yasi\n",
    "        \n",
    "kedi1 = Kedi(\"Sibirya\",\"mavi\",\"beyaz\") \n",
    "kedi1.cins     #özellik çağırırken parantez kullanmıyoruz\n",
    "kedi1.insan_yasi_karsiligi(6)  #fonksiyonları çağırırken parantez kullanıyoruz\n",
    "kedi1.miyavla()\n",
    "        \n"
   ]
  },
  {
   "cell_type": "code",
   "execution_count": 37,
   "id": "e2854eb0-3a7c-4c49-930b-4e897b7224d7",
   "metadata": {},
   "outputs": [
    {
     "name": "stdout",
     "output_type": "stream",
     "text": [
      "6\n"
     ]
    }
   ],
   "source": [
    "#operator overloading kullanma\n",
    "\n",
    "class Kopek:\n",
    "        def __init__(self,cins,cinsiyet,yas):  \n",
    "            self.cinsi = cins\n",
    "            self.cinsiyeti = cinsiyet\n",
    "            self.yasi = yas\n",
    "            #Operator overloading: Python'da var olan bir operator fonksiyonun bizim class'ımızda çalışması için tekrar yazmak. \n",
    "            #Mesela __add__(self,other) => toplama, __sub__(self,other) => çıkarma , __mul__(self,other) =>çarpma\n",
    "        def __add__(self,other): #Operator overloading yapıyoruz.\n",
    "            return self.yasi + other.yasi   #burada other dediğimiz toplayacağımız diğer class elemanı\n",
    "kopek1 = Kopek(\"Labrador\",\"erkek\",2)\n",
    "kopek2 = Kopek(\"Poodle\",\"dişi\",4)\n",
    "\n",
    "print(kopek1 + kopek2)  #__add__ fonksiyonumuzla yaşlarını topladık\n"
   ]
  },
  {
   "cell_type": "code",
   "execution_count": 38,
   "id": "0f223c3c-f9d3-438d-8f6f-99cea5963b8a",
   "metadata": {},
   "outputs": [
    {
     "name": "stdout",
     "output_type": "stream",
     "text": [
      "100\n"
     ]
    }
   ],
   "source": [
    "#Miras alma ve override yapma\n",
    "\n",
    "class Papagan(Kopek): #içine miras almak istediğimiz class'ı yazıyoruz. Kopekteki tüm fonksiyonlar Papağanda da geçerli olacak.\n",
    "        def __init__(self,renk,yas):   ##__innit__ fonksiyonunu tekrar yazdığımızda Kopekteki __innit__ fonksiyonunu override etmiş oluyoruz. Artık Kopeğin init'i yerine bu fonksiyon çağrılacak.\n",
    "            self.rengi = renk\n",
    "            self.yasi = yas\n",
    "papagan1 = Papagan(\"kırmızı\",55)\n",
    "papagan2 = Papagan(\"sarı\",45)\n",
    "\n",
    "print(papagan1 + papagan2) #__add__ fonksiyonunu çağırabiliyoruz çünkü Kopek class'ından miras aldık.\n",
    "\n",
    "            "
   ]
  },
  {
   "cell_type": "code",
   "execution_count": null,
   "id": "553a52a3-f562-48f9-aca4-9e5e699d0509",
   "metadata": {},
   "outputs": [],
   "source": []
  }
 ],
 "metadata": {
  "kernelspec": {
   "display_name": "Python 3 (ipykernel)",
   "language": "python",
   "name": "python3"
  },
  "language_info": {
   "codemirror_mode": {
    "name": "ipython",
    "version": 3
   },
   "file_extension": ".py",
   "mimetype": "text/x-python",
   "name": "python",
   "nbconvert_exporter": "python",
   "pygments_lexer": "ipython3",
   "version": "3.9.12"
  }
 },
 "nbformat": 4,
 "nbformat_minor": 5
}
